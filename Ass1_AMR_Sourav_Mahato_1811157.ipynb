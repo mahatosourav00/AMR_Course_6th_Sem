{
 "cells": [
  {
   "cell_type": "code",
   "execution_count": 182,
   "metadata": {},
   "outputs": [],
   "source": [
    "# import libraries\n",
    "import numpy as np\n",
    "import matplotlib.pyplot as plt\n",
    "import math"
   ]
  },
  {
   "cell_type": "code",
   "execution_count": 183,
   "metadata": {},
   "outputs": [],
   "source": [
    "# entries of the matrix\n",
    "diag = -81.5\n",
    "off_diag = -4.6"
   ]
  },
  {
   "cell_type": "code",
   "execution_count": 184,
   "metadata": {},
   "outputs": [],
   "source": [
    "# n*n matrix\n",
    "n = 20\n",
    "M = np.zeros((n,n))"
   ]
  },
  {
   "cell_type": "code",
   "execution_count": 185,
   "metadata": {},
   "outputs": [],
   "source": [
    "# creating the matrix\n",
    "for i in range(n):\n",
    "    for j in range(n):\n",
    "        if i == j:\n",
    "            M[i][j] = diag\n",
    "        elif i+1 == j or i-1 == j:\n",
    "            M[i][j] = off_diag\n",
    "            "
   ]
  },
  {
   "cell_type": "code",
   "execution_count": 186,
   "metadata": {},
   "outputs": [],
   "source": [
    "#print(M)"
   ]
  },
  {
   "cell_type": "code",
   "execution_count": 187,
   "metadata": {},
   "outputs": [],
   "source": [
    "# Eigenvalue and Eigenvector calculation\n",
    "e_values, e_vectors = np.linalg.eig(M)\n",
    "#print(e_values)"
   ]
  },
  {
   "cell_type": "code",
   "execution_count": 188,
   "metadata": {},
   "outputs": [],
   "source": [
    "# sorting the eigenvalues for plotting\n",
    "e_values.sort()\n",
    "#print(e_values)"
   ]
  },
  {
   "cell_type": "code",
   "execution_count": 189,
   "metadata": {},
   "outputs": [
    {
     "name": "stdout",
     "output_type": "stream",
     "text": [
      "Width of each bar = 0.909724360127121\n"
     ]
    },
    {
     "data": {
      "text/plain": [
       "(array([3., 1., 1., 1., 1., 0., 1., 1., 0., 1., 1., 0., 1., 1., 0., 1., 1.,\n",
       "        1., 1., 3.]),\n",
       " array([-90.5972436 , -89.68751924, -88.77779488, -87.86807052,\n",
       "        -86.95834616, -86.0486218 , -85.13889744, -84.22917308,\n",
       "        -83.31944872, -82.40972436, -81.5       , -80.59027564,\n",
       "        -79.68055128, -78.77082692, -77.86110256, -76.9513782 ,\n",
       "        -76.04165384, -75.13192948, -74.22220512, -73.31248076,\n",
       "        -72.4027564 ]),\n",
       " <BarContainer object of 20 artists>)"
      ]
     },
     "execution_count": 189,
     "metadata": {},
     "output_type": "execute_result"
    },
    {
     "data": {
      "image/png": "[encoded data removed]",
      "text/plain": [
       "<Figure size 432x288 with 1 Axes>"
      ]
     },
     "metadata": {
      "needs_background": "light"
     },
     "output_type": "display_data"
    }
   ],
   "source": [
    "# plotting the eigenvalues\n",
    "d = e_values[n-1]-e_values[0]\n",
    "width = d/n\n",
    "print(\"Width of each bar =\", step)\n",
    "plt.hist(e_values, bins = n)"
   ]
  }
 ],
 "metadata": {
  "kernelspec": {
   "display_name": "Python 3",
   "language": "python",
   "name": "python3"
  },
  "language_info": {
   "codemirror_mode": {
    "name": "ipython",
    "version": 3
   },
   "file_extension": ".py",
   "mimetype": "text/x-python",
   "name": "python",
   "nbconvert_exporter": "python",
   "pygments_lexer": "ipython3",
   "version": "3.8.5"
  }
 },
 "nbformat": 4,
 "nbformat_minor": 4
}
